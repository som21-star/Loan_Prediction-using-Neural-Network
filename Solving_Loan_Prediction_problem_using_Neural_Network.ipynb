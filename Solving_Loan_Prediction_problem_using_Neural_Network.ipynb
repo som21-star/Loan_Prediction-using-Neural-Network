{
  "nbformat": 4,
  "nbformat_minor": 0,
  "metadata": {
    "kernelspec": {
      "name": "python3",
      "display_name": "Python 3"
    },
    "language_info": {
      "codemirror_mode": {
        "name": "ipython",
        "version": 3
      },
      "file_extension": ".py",
      "mimetype": "text/x-python",
      "name": "python",
      "nbconvert_exporter": "python",
      "pygments_lexer": "ipython3",
      "version": "3.6.5"
    },
    "colab": {
      "name": "Solving_Loan_Prediction_problem_using_Neural_Network.ipynb",
      "provenance": [],
      "collapsed_sections": [],
      "toc_visible": true,
      "include_colab_link": true
    },
    "accelerator": "GPU"
  },
  "cells": [
    {
      "cell_type": "markdown",
      "metadata": {
        "id": "view-in-github",
        "colab_type": "text"
      },
      "source": [
        "<a href=\"https://colab.research.google.com/github/som21-star/Loan_Prediction-using-Neural-Network/blob/master/Solving_Loan_Prediction_problem_using_Neural_Network.ipynb\" target=\"_parent\"><img src=\"https://colab.research.google.com/assets/colab-badge.svg\" alt=\"Open In Colab\"/></a>"
      ]
    },
    {
      "cell_type": "code",
      "metadata": {
        "id": "N1174ZAOqvyo",
        "colab_type": "code",
        "outputId": "8b8cd3c1-9d5b-420b-ddd8-b999767e8618",
        "colab": {
          "base_uri": "https://localhost:8080/",
          "height": 34
        }
      },
      "source": [
        "%tensorflow_version 1.x"
      ],
      "execution_count": 3,
      "outputs": [
        {
          "output_type": "stream",
          "text": [
            "TensorFlow 1.x selected.\n"
          ],
          "name": "stdout"
        }
      ]
    },
    {
      "cell_type": "markdown",
      "metadata": {
        "id": "WjKX7h16glKA",
        "colab_type": "text"
      },
      "source": [
        "# Steps to build a Neural Network using Keras\n",
        "\n",
        "<ol>1. Loading the dataset</ol>\n",
        "<ol>2. Creating training and validation set</ol>\n",
        "<ol>3. Defining the architecture of the model</ol>\n",
        "<ol>4. Compiling the model (defining loss function, optimizer)</ol>\n",
        "<ol>5. Training the model</ol>\n",
        "<ol>6. Evaluating model performance on training and validation set</ol>"
      ]
    },
    {
      "cell_type": "markdown",
      "metadata": {
        "id": "56f3bnnIglKI",
        "colab_type": "text"
      },
      "source": [
        "## 1. Loading the dataset"
      ]
    },
    {
      "cell_type": "code",
      "metadata": {
        "id": "as3tljzfglKN",
        "colab_type": "code",
        "colab": {}
      },
      "source": [
        "# importing the required libraries\n",
        "import pandas as pd\n",
        "import numpy as np\n",
        "import sklearn\n",
        "from sklearn.model_selection import train_test_split\n",
        "from sklearn.metrics import accuracy_score\n",
        "import matplotlib.pyplot as plt\n",
        "%matplotlib inline"
      ],
      "execution_count": 0,
      "outputs": []
    },
    {
      "cell_type": "code",
      "metadata": {
        "id": "Bzp09t1S_07z",
        "colab_type": "code",
        "outputId": "c8300486-555e-4197-c09f-6ca94f46dab9",
        "colab": {
          "base_uri": "https://localhost:8080/",
          "height": 34
        }
      },
      "source": [
        "# check version on sklearn\n",
        "print('Version of sklearn:', sklearn.__version__)"
      ],
      "execution_count": 2,
      "outputs": [
        {
          "output_type": "stream",
          "text": [
            "Version of sklearn: 0.22.2.post1\n"
          ],
          "name": "stdout"
        }
      ]
    },
    {
      "cell_type": "code",
      "metadata": {
        "id": "UXQcz5rtglKe",
        "colab_type": "code",
        "colab": {}
      },
      "source": [
        "# loading the pre-processed dataset\n",
        "data = pd.read_csv('/content/loan_prediction_data.csv')"
      ],
      "execution_count": 0,
      "outputs": []
    },
    {
      "cell_type": "code",
      "metadata": {
        "scrolled": false,
        "id": "ntuq8jfzglKp",
        "colab_type": "code",
        "outputId": "838a4019-7ddf-4e3e-9538-3e70c79a6493",
        "colab": {
          "base_uri": "https://localhost:8080/",
          "height": 224
        }
      },
      "source": [
        "# looking at the first five rows of the dataset\n",
        "data.head()"
      ],
      "execution_count": 6,
      "outputs": [
        {
          "output_type": "execute_result",
          "data": {
            "text/html": [
              "<div>\n",
              "<style scoped>\n",
              "    .dataframe tbody tr th:only-of-type {\n",
              "        vertical-align: middle;\n",
              "    }\n",
              "\n",
              "    .dataframe tbody tr th {\n",
              "        vertical-align: top;\n",
              "    }\n",
              "\n",
              "    .dataframe thead th {\n",
              "        text-align: right;\n",
              "    }\n",
              "</style>\n",
              "<table border=\"1\" class=\"dataframe\">\n",
              "  <thead>\n",
              "    <tr style=\"text-align: right;\">\n",
              "      <th></th>\n",
              "      <th>Loan_ID</th>\n",
              "      <th>Gender</th>\n",
              "      <th>Married</th>\n",
              "      <th>Dependents</th>\n",
              "      <th>Education</th>\n",
              "      <th>Self_Employed</th>\n",
              "      <th>ApplicantIncome</th>\n",
              "      <th>CoapplicantIncome</th>\n",
              "      <th>LoanAmount</th>\n",
              "      <th>Loan_Amount_Term</th>\n",
              "      <th>Credit_History</th>\n",
              "      <th>Property_Area</th>\n",
              "      <th>Loan_Status</th>\n",
              "    </tr>\n",
              "  </thead>\n",
              "  <tbody>\n",
              "    <tr>\n",
              "      <th>0</th>\n",
              "      <td>LP001002</td>\n",
              "      <td>0.0</td>\n",
              "      <td>0.0</td>\n",
              "      <td>0.000000</td>\n",
              "      <td>1.0</td>\n",
              "      <td>0.0</td>\n",
              "      <td>0.070489</td>\n",
              "      <td>0.000000</td>\n",
              "      <td>0.198860</td>\n",
              "      <td>0.74359</td>\n",
              "      <td>1.0</td>\n",
              "      <td>1.0</td>\n",
              "      <td>1.0</td>\n",
              "    </tr>\n",
              "    <tr>\n",
              "      <th>1</th>\n",
              "      <td>LP001003</td>\n",
              "      <td>0.0</td>\n",
              "      <td>1.0</td>\n",
              "      <td>0.333333</td>\n",
              "      <td>1.0</td>\n",
              "      <td>0.0</td>\n",
              "      <td>0.054830</td>\n",
              "      <td>0.036192</td>\n",
              "      <td>0.172214</td>\n",
              "      <td>0.74359</td>\n",
              "      <td>1.0</td>\n",
              "      <td>0.0</td>\n",
              "      <td>0.0</td>\n",
              "    </tr>\n",
              "    <tr>\n",
              "      <th>2</th>\n",
              "      <td>LP001005</td>\n",
              "      <td>0.0</td>\n",
              "      <td>1.0</td>\n",
              "      <td>0.000000</td>\n",
              "      <td>1.0</td>\n",
              "      <td>1.0</td>\n",
              "      <td>0.035250</td>\n",
              "      <td>0.000000</td>\n",
              "      <td>0.082489</td>\n",
              "      <td>0.74359</td>\n",
              "      <td>1.0</td>\n",
              "      <td>1.0</td>\n",
              "      <td>1.0</td>\n",
              "    </tr>\n",
              "    <tr>\n",
              "      <th>3</th>\n",
              "      <td>LP001006</td>\n",
              "      <td>0.0</td>\n",
              "      <td>1.0</td>\n",
              "      <td>0.000000</td>\n",
              "      <td>0.0</td>\n",
              "      <td>0.0</td>\n",
              "      <td>0.030093</td>\n",
              "      <td>0.056592</td>\n",
              "      <td>0.160637</td>\n",
              "      <td>0.74359</td>\n",
              "      <td>1.0</td>\n",
              "      <td>1.0</td>\n",
              "      <td>1.0</td>\n",
              "    </tr>\n",
              "    <tr>\n",
              "      <th>4</th>\n",
              "      <td>LP001008</td>\n",
              "      <td>0.0</td>\n",
              "      <td>0.0</td>\n",
              "      <td>0.000000</td>\n",
              "      <td>1.0</td>\n",
              "      <td>0.0</td>\n",
              "      <td>0.072356</td>\n",
              "      <td>0.000000</td>\n",
              "      <td>0.191027</td>\n",
              "      <td>0.74359</td>\n",
              "      <td>1.0</td>\n",
              "      <td>1.0</td>\n",
              "      <td>1.0</td>\n",
              "    </tr>\n",
              "  </tbody>\n",
              "</table>\n",
              "</div>"
            ],
            "text/plain": [
              "    Loan_ID  Gender  Married  ...  Credit_History  Property_Area  Loan_Status\n",
              "0  LP001002     0.0      0.0  ...             1.0            1.0          1.0\n",
              "1  LP001003     0.0      1.0  ...             1.0            0.0          0.0\n",
              "2  LP001005     0.0      1.0  ...             1.0            1.0          1.0\n",
              "3  LP001006     0.0      1.0  ...             1.0            1.0          1.0\n",
              "4  LP001008     0.0      0.0  ...             1.0            1.0          1.0\n",
              "\n",
              "[5 rows x 13 columns]"
            ]
          },
          "metadata": {
            "tags": []
          },
          "execution_count": 6
        }
      ]
    },
    {
      "cell_type": "code",
      "metadata": {
        "id": "2iqbEhkaglK0",
        "colab_type": "code",
        "outputId": "6818dab8-a1a7-4e69-e813-d8e026c999a9",
        "colab": {
          "base_uri": "https://localhost:8080/",
          "height": 255
        }
      },
      "source": [
        "# checking missing values\n",
        "data.isnull().sum()"
      ],
      "execution_count": 7,
      "outputs": [
        {
          "output_type": "execute_result",
          "data": {
            "text/plain": [
              "Loan_ID              0\n",
              "Gender               0\n",
              "Married              0\n",
              "Dependents           0\n",
              "Education            0\n",
              "Self_Employed        0\n",
              "ApplicantIncome      0\n",
              "CoapplicantIncome    0\n",
              "LoanAmount           0\n",
              "Loan_Amount_Term     0\n",
              "Credit_History       0\n",
              "Property_Area        0\n",
              "Loan_Status          0\n",
              "dtype: int64"
            ]
          },
          "metadata": {
            "tags": []
          },
          "execution_count": 7
        }
      ]
    },
    {
      "cell_type": "code",
      "metadata": {
        "id": "QOnBYzGnglK-",
        "colab_type": "code",
        "outputId": "765b74c8-4fae-472f-8324-ecfdc691fda3",
        "colab": {
          "base_uri": "https://localhost:8080/",
          "height": 255
        }
      },
      "source": [
        "# checking the data type\n",
        "data.dtypes"
      ],
      "execution_count": 8,
      "outputs": [
        {
          "output_type": "execute_result",
          "data": {
            "text/plain": [
              "Loan_ID               object\n",
              "Gender               float64\n",
              "Married              float64\n",
              "Dependents           float64\n",
              "Education            float64\n",
              "Self_Employed        float64\n",
              "ApplicantIncome      float64\n",
              "CoapplicantIncome    float64\n",
              "LoanAmount           float64\n",
              "Loan_Amount_Term     float64\n",
              "Credit_History       float64\n",
              "Property_Area        float64\n",
              "Loan_Status          float64\n",
              "dtype: object"
            ]
          },
          "metadata": {
            "tags": []
          },
          "execution_count": 8
        }
      ]
    },
    {
      "cell_type": "code",
      "metadata": {
        "id": "TYuwXXuNglLI",
        "colab_type": "code",
        "colab": {}
      },
      "source": [
        "# removing the loan_ID since these are just the unique values\n",
        "data = data.drop('Loan_ID', axis=1)"
      ],
      "execution_count": 0,
      "outputs": []
    },
    {
      "cell_type": "code",
      "metadata": {
        "id": "r7XkDkLqglLQ",
        "colab_type": "code",
        "outputId": "521a9672-81c4-48af-b6ea-0496b5de0794",
        "colab": {
          "base_uri": "https://localhost:8080/",
          "height": 34
        }
      },
      "source": [
        "# looking at the shape of the data\n",
        "data.shape"
      ],
      "execution_count": 13,
      "outputs": [
        {
          "output_type": "execute_result",
          "data": {
            "text/plain": [
              "(614, 12)"
            ]
          },
          "metadata": {
            "tags": []
          },
          "execution_count": 13
        }
      ]
    },
    {
      "cell_type": "code",
      "metadata": {
        "id": "wy5U75eiglLZ",
        "colab_type": "code",
        "colab": {}
      },
      "source": [
        "# separating the independent and dependent variables\n",
        "\n",
        "# storing all the independent variables as X\n",
        "X = data.drop('Loan_Status', axis=1)\n",
        "\n",
        "# storing the dependent variable as y\n",
        "y = data['Loan_Status']"
      ],
      "execution_count": 0,
      "outputs": []
    },
    {
      "cell_type": "code",
      "metadata": {
        "scrolled": true,
        "id": "73Z_cXPVglLi",
        "colab_type": "code",
        "outputId": "3e688113-12b8-47a8-b3df-0ad5001e5e07",
        "colab": {
          "base_uri": "https://localhost:8080/",
          "height": 34
        }
      },
      "source": [
        "# shape of independent and dependent variables\n",
        "X.shape, y.shape"
      ],
      "execution_count": 15,
      "outputs": [
        {
          "output_type": "execute_result",
          "data": {
            "text/plain": [
              "((614, 11), (614,))"
            ]
          },
          "metadata": {
            "tags": []
          },
          "execution_count": 15
        }
      ]
    },
    {
      "cell_type": "markdown",
      "metadata": {
        "id": "2tIAIoEZglLr",
        "colab_type": "text"
      },
      "source": [
        "## 2. Creating training and validation set"
      ]
    },
    {
      "cell_type": "code",
      "metadata": {
        "id": "4jvMxwYZglLu",
        "colab_type": "code",
        "colab": {}
      },
      "source": [
        "# Creating training and validation set\n",
        "\n",
        "# stratify will make sure that the distribution of classes in train and validation set it similar\n",
        "# random state to regenerate the same train and validation set\n",
        "# test size 0.2 will keep 20% data in validation and remaining 80% in train set\n",
        "\n",
        "X_train,X_test,y_train,y_test = train_test_split(X,y,stratify=data['Loan_Status'],random_state=10,test_size=0.2)"
      ],
      "execution_count": 0,
      "outputs": []
    },
    {
      "cell_type": "code",
      "metadata": {
        "id": "3HG0SIb2glL3",
        "colab_type": "code",
        "outputId": "0d10682d-7d6b-48e7-e4fe-d4baf01ba2d9",
        "colab": {
          "base_uri": "https://localhost:8080/",
          "height": 34
        }
      },
      "source": [
        "# shape of training and validation set\n",
        "(X_train.shape, y_train.shape), (X_test.shape, y_test.shape)"
      ],
      "execution_count": 17,
      "outputs": [
        {
          "output_type": "execute_result",
          "data": {
            "text/plain": [
              "(((491, 11), (491,)), ((123, 11), (123,)))"
            ]
          },
          "metadata": {
            "tags": []
          },
          "execution_count": 17
        }
      ]
    },
    {
      "cell_type": "markdown",
      "metadata": {
        "id": "e9PNy3T1glL_",
        "colab_type": "text"
      },
      "source": [
        "## 3. Defining the architecture of the model"
      ]
    },
    {
      "cell_type": "code",
      "metadata": {
        "scrolled": true,
        "id": "IsccfqUYglMC",
        "colab_type": "code",
        "outputId": "3ca451f6-7b26-423c-9344-d44716622339",
        "colab": {
          "base_uri": "https://localhost:8080/",
          "height": 51
        }
      },
      "source": [
        "# checking the version of keras\n",
        "import keras\n",
        "print(keras.__version__)"
      ],
      "execution_count": 18,
      "outputs": [
        {
          "output_type": "stream",
          "text": [
            "Using TensorFlow backend.\n"
          ],
          "name": "stderr"
        },
        {
          "output_type": "stream",
          "text": [
            "2.3.1\n"
          ],
          "name": "stdout"
        }
      ]
    },
    {
      "cell_type": "code",
      "metadata": {
        "id": "XMLvwm5wglMK",
        "colab_type": "code",
        "outputId": "d02946f1-17e0-4981-928b-59eab5909bef",
        "colab": {
          "base_uri": "https://localhost:8080/",
          "height": 34
        }
      },
      "source": [
        "# checking the version of tensorflow\n",
        "import tensorflow as tf\n",
        "print(tf.__version__)"
      ],
      "execution_count": 19,
      "outputs": [
        {
          "output_type": "stream",
          "text": [
            "1.15.2\n"
          ],
          "name": "stdout"
        }
      ]
    },
    {
      "cell_type": "markdown",
      "metadata": {
        "id": "LbHAzzxZglMR",
        "colab_type": "text"
      },
      "source": [
        "### a. Create a model\n",
        "\n",
        "<img src='https://drive.google.com/uc?id=1iZNZ3kwSHRNf-Irn3DZmMuBb6K-Lro7w'>"
      ]
    },
    {
      "cell_type": "code",
      "metadata": {
        "id": "O-Pl7OO8glMT",
        "colab_type": "code",
        "colab": {}
      },
      "source": [
        "# importing the sequential model\n",
        "from keras.models import Sequential"
      ],
      "execution_count": 0,
      "outputs": []
    },
    {
      "cell_type": "markdown",
      "metadata": {
        "id": "q6SQ3N1NglMZ",
        "colab_type": "text"
      },
      "source": [
        "### b. Defining different layers\n",
        "\n",
        "<img src='https://drive.google.com/uc?id=16X6De2hua1XJBe3dfmUUeGTgP6PbXEpc'>"
      ]
    },
    {
      "cell_type": "code",
      "metadata": {
        "scrolled": true,
        "id": "NDU-YCD0glMb",
        "colab_type": "code",
        "colab": {}
      },
      "source": [
        "# importing different layers from keras\n",
        "from keras.layers import InputLayer, Dense "
      ],
      "execution_count": 0,
      "outputs": []
    },
    {
      "cell_type": "markdown",
      "metadata": {
        "id": "c1I4EF-9glMj",
        "colab_type": "text"
      },
      "source": [
        "<img src='https://drive.google.com/uc?id=1tsy4B6G0UN4-J4L4roOdoWQiZMUdgw2a'>"
      ]
    },
    {
      "cell_type": "code",
      "metadata": {
        "id": "xtOwk66BglMl",
        "colab_type": "code",
        "outputId": "cb57e172-3b9e-439d-d65e-83040d55bbe4",
        "colab": {
          "base_uri": "https://localhost:8080/",
          "height": 34
        }
      },
      "source": [
        "# number of input neurons\n",
        "X_train.shape"
      ],
      "execution_count": 22,
      "outputs": [
        {
          "output_type": "execute_result",
          "data": {
            "text/plain": [
              "(491, 11)"
            ]
          },
          "metadata": {
            "tags": []
          },
          "execution_count": 22
        }
      ]
    },
    {
      "cell_type": "code",
      "metadata": {
        "scrolled": true,
        "id": "dA2TqMbsglMq",
        "colab_type": "code",
        "outputId": "ac82874e-37f5-46f0-8581-689e951c2ba3",
        "colab": {
          "base_uri": "https://localhost:8080/",
          "height": 34
        }
      },
      "source": [
        "# number of features in the data\n",
        "X_train.shape[1]"
      ],
      "execution_count": 23,
      "outputs": [
        {
          "output_type": "execute_result",
          "data": {
            "text/plain": [
              "11"
            ]
          },
          "metadata": {
            "tags": []
          },
          "execution_count": 23
        }
      ]
    },
    {
      "cell_type": "code",
      "metadata": {
        "id": "ajgIDiLSglMx",
        "colab_type": "code",
        "colab": {}
      },
      "source": [
        "# defining input neurons\n",
        "input_neurons = X_train.shape[1]"
      ],
      "execution_count": 0,
      "outputs": []
    },
    {
      "cell_type": "markdown",
      "metadata": {
        "id": "urOAaBuNglM4",
        "colab_type": "text"
      },
      "source": [
        "<img src='https://drive.google.com/uc?id=1xL_hM9rGItZjsZ8Lofwzw_9fZUi4bgJo'>"
      ]
    },
    {
      "cell_type": "code",
      "metadata": {
        "id": "fu76LxuVglM6",
        "colab_type": "code",
        "colab": {}
      },
      "source": [
        "# number of output neurons\n",
        "\n",
        "# since loan prediction is a binary classification problem, we will have single neuron in the output layer "
      ],
      "execution_count": 0,
      "outputs": []
    },
    {
      "cell_type": "code",
      "metadata": {
        "id": "taMhxkl4glNB",
        "colab_type": "code",
        "colab": {}
      },
      "source": [
        "# define number of output neurons\n",
        "output_neurons = 1"
      ],
      "execution_count": 0,
      "outputs": []
    },
    {
      "cell_type": "code",
      "metadata": {
        "id": "cHsm2c7kglNF",
        "colab_type": "code",
        "colab": {}
      },
      "source": [
        "# number of hidden layers and hidden neurons\n",
        "\n",
        "# It is a hyperparameter and we can pick the hidden layers and hidden neurons on our own"
      ],
      "execution_count": 0,
      "outputs": []
    },
    {
      "cell_type": "code",
      "metadata": {
        "id": "sMqdeXysqztM",
        "colab_type": "code",
        "colab": {}
      },
      "source": [
        "# define hidden layers and neuron in each layer\n",
        "number_of_hidden_layers = 2\n",
        "neuron_hidden_layer_1 = 10\n",
        "neuron_hidden_layer_2 = 5"
      ],
      "execution_count": 0,
      "outputs": []
    },
    {
      "cell_type": "code",
      "metadata": {
        "id": "HKTCB3K1glNQ",
        "colab_type": "code",
        "colab": {}
      },
      "source": [
        "# activation function of different layers\n",
        "\n",
        "# for now I have picked relu as an activation function for hidden layers, you can change it as well\n",
        "# since it is a binary classification problem, I have used sigmoid activation function in the final layer"
      ],
      "execution_count": 0,
      "outputs": []
    },
    {
      "cell_type": "code",
      "metadata": {
        "id": "lJeV8sQyq1rj",
        "colab_type": "code",
        "outputId": "1b1fa0a9-5240-4635-b5f0-3bcb5ce8083a",
        "colab": {
          "base_uri": "https://localhost:8080/",
          "height": 88
        }
      },
      "source": [
        "# defining the architecture of the model\n",
        "model = Sequential()\n",
        "model.add(InputLayer(input_shape=(input_neurons,)))\n",
        "model.add(Dense(units=neuron_hidden_layer_1, activation='relu'))\n",
        "model.add(Dense(units=neuron_hidden_layer_2, activation='relu'))\n",
        "model.add(Dense(units=output_neurons, activation='sigmoid'))"
      ],
      "execution_count": 27,
      "outputs": [
        {
          "output_type": "stream",
          "text": [
            "WARNING:tensorflow:From /tensorflow-1.15.2/python3.6/tensorflow_core/python/ops/resource_variable_ops.py:1630: calling BaseResourceVariable.__init__ (from tensorflow.python.ops.resource_variable_ops) with constraint is deprecated and will be removed in a future version.\n",
            "Instructions for updating:\n",
            "If using Keras pass *_constraint arguments to layers.\n"
          ],
          "name": "stdout"
        }
      ]
    },
    {
      "cell_type": "code",
      "metadata": {
        "id": "E9tXg_08q3n0",
        "colab_type": "code",
        "outputId": "adaa204d-92c9-49c9-d8ca-6461733dbb4d",
        "colab": {
          "base_uri": "https://localhost:8080/",
          "height": 255
        }
      },
      "source": [
        "# summary of the model\n",
        "model.summary()"
      ],
      "execution_count": 28,
      "outputs": [
        {
          "output_type": "stream",
          "text": [
            "Model: \"sequential_1\"\n",
            "_________________________________________________________________\n",
            "Layer (type)                 Output Shape              Param #   \n",
            "=================================================================\n",
            "dense_1 (Dense)              (None, 10)                120       \n",
            "_________________________________________________________________\n",
            "dense_2 (Dense)              (None, 5)                 55        \n",
            "_________________________________________________________________\n",
            "dense_3 (Dense)              (None, 1)                 6         \n",
            "=================================================================\n",
            "Total params: 181\n",
            "Trainable params: 181\n",
            "Non-trainable params: 0\n",
            "_________________________________________________________________\n"
          ],
          "name": "stdout"
        }
      ]
    },
    {
      "cell_type": "code",
      "metadata": {
        "id": "PnsVNEbZglNf",
        "colab_type": "code",
        "outputId": "f3a00fd2-7ea9-482d-a1a9-3b12b1f6a2ea",
        "colab": {
          "base_uri": "https://localhost:8080/",
          "height": 34
        }
      },
      "source": [
        "# number of parameters between input and first hidden layer\n",
        "\n",
        "input_neurons*neuron_hidden_layer_1"
      ],
      "execution_count": 29,
      "outputs": [
        {
          "output_type": "execute_result",
          "data": {
            "text/plain": [
              "110"
            ]
          },
          "metadata": {
            "tags": []
          },
          "execution_count": 29
        }
      ]
    },
    {
      "cell_type": "code",
      "metadata": {
        "scrolled": true,
        "id": "npisFmvIglNl",
        "colab_type": "code",
        "outputId": "f68dab49-0196-4c97-eefa-c8af1326c3c1",
        "colab": {
          "base_uri": "https://localhost:8080/",
          "height": 34
        }
      },
      "source": [
        "# number of parameters between input and first hidden layer\n",
        "\n",
        "# adding the bias for each neuron of first hidden layer\n",
        "\n",
        "input_neurons*neuron_hidden_layer_1 + 10"
      ],
      "execution_count": 30,
      "outputs": [
        {
          "output_type": "execute_result",
          "data": {
            "text/plain": [
              "120"
            ]
          },
          "metadata": {
            "tags": []
          },
          "execution_count": 30
        }
      ]
    },
    {
      "cell_type": "code",
      "metadata": {
        "id": "j37Xpr-8glNq",
        "colab_type": "code",
        "outputId": "7436ab86-ba37-4029-ebae-357ca85263c1",
        "colab": {
          "base_uri": "https://localhost:8080/",
          "height": 34
        }
      },
      "source": [
        "# number of parameters between first and second hidden layer\n",
        "\n",
        "neuron_hidden_layer_1*neuron_hidden_layer_2 + 5"
      ],
      "execution_count": 31,
      "outputs": [
        {
          "output_type": "execute_result",
          "data": {
            "text/plain": [
              "55"
            ]
          },
          "metadata": {
            "tags": []
          },
          "execution_count": 31
        }
      ]
    },
    {
      "cell_type": "code",
      "metadata": {
        "id": "UXrvaFnXglNu",
        "colab_type": "code",
        "outputId": "f587590f-554c-464e-e204-91b7c815b1ed",
        "colab": {
          "base_uri": "https://localhost:8080/",
          "height": 34
        }
      },
      "source": [
        "# number of parameters between second hidden and output layer\n",
        "\n",
        "neuron_hidden_layer_2*output_neurons + 1"
      ],
      "execution_count": 32,
      "outputs": [
        {
          "output_type": "execute_result",
          "data": {
            "text/plain": [
              "6"
            ]
          },
          "metadata": {
            "tags": []
          },
          "execution_count": 32
        }
      ]
    },
    {
      "cell_type": "markdown",
      "metadata": {
        "id": "xm1bbbE_glNz",
        "colab_type": "text"
      },
      "source": [
        "## 4. Compiling the model (defining loss function, optimizer)"
      ]
    },
    {
      "cell_type": "code",
      "metadata": {
        "id": "P6hqkDWIglN0",
        "colab_type": "code",
        "outputId": "1310d843-1e1b-4163-954a-33da8ea59ee0",
        "colab": {
          "base_uri": "https://localhost:8080/",
          "height": 88
        }
      },
      "source": [
        "# compiling the model\n",
        "\n",
        "# loss as binary_crossentropy, since we have binary classification problem\n",
        "# defining the optimizer as adam\n",
        "# Evaluation metric as accuracy\n",
        "\n",
        "model.compile(loss='binary_crossentropy',optimizer='Adam',metrics=['accuracy'])"
      ],
      "execution_count": 33,
      "outputs": [
        {
          "output_type": "stream",
          "text": [
            "WARNING:tensorflow:From /tensorflow-1.15.2/python3.6/tensorflow_core/python/ops/nn_impl.py:183: where (from tensorflow.python.ops.array_ops) is deprecated and will be removed in a future version.\n",
            "Instructions for updating:\n",
            "Use tf.where in 2.0, which has the same broadcast rule as np.where\n"
          ],
          "name": "stdout"
        }
      ]
    },
    {
      "cell_type": "markdown",
      "metadata": {
        "id": "T1oVMpRMglN5",
        "colab_type": "text"
      },
      "source": [
        "## 5. Training the model"
      ]
    },
    {
      "cell_type": "code",
      "metadata": {
        "id": "pViJI3-TglN6",
        "colab_type": "code",
        "outputId": "077800d9-3de5-4479-f058-b1c4c81c88b9",
        "colab": {
          "base_uri": "https://localhost:8080/",
          "height": 1000
        }
      },
      "source": [
        "# training the model\n",
        "\n",
        "# passing the independent and dependent features for training set for training the model\n",
        "\n",
        "# validation data will be evaluated at the end of each epoch\n",
        "\n",
        "# setting the epochs as 50\n",
        "\n",
        "# storing the trained model in model_history variable which will be used to visualize the training process\n",
        "\n",
        "model_history = model.fit(X_train, y_train, validation_data=(X_test, y_test), epochs=50)"
      ],
      "execution_count": 34,
      "outputs": [
        {
          "output_type": "stream",
          "text": [
            "WARNING:tensorflow:From /usr/local/lib/python3.6/dist-packages/keras/backend/tensorflow_backend.py:422: The name tf.global_variables is deprecated. Please use tf.compat.v1.global_variables instead.\n",
            "\n",
            "Train on 491 samples, validate on 123 samples\n",
            "Epoch 1/50\n",
            "491/491 [==============================] - 2s 4ms/step - loss: 0.7297 - accuracy: 0.3218 - val_loss: 0.7157 - val_accuracy: 0.3089\n",
            "Epoch 2/50\n",
            "491/491 [==============================] - 0s 146us/step - loss: 0.7028 - accuracy: 0.4542 - val_loss: 0.6926 - val_accuracy: 0.5610\n",
            "Epoch 3/50\n",
            "491/491 [==============================] - 0s 146us/step - loss: 0.6799 - accuracy: 0.5988 - val_loss: 0.6686 - val_accuracy: 0.6829\n",
            "Epoch 4/50\n",
            "491/491 [==============================] - 0s 169us/step - loss: 0.6588 - accuracy: 0.6986 - val_loss: 0.6461 - val_accuracy: 0.7236\n",
            "Epoch 5/50\n",
            "491/491 [==============================] - 0s 153us/step - loss: 0.6383 - accuracy: 0.7108 - val_loss: 0.6273 - val_accuracy: 0.7073\n",
            "Epoch 6/50\n",
            "491/491 [==============================] - 0s 151us/step - loss: 0.6221 - accuracy: 0.7067 - val_loss: 0.6118 - val_accuracy: 0.6992\n",
            "Epoch 7/50\n",
            "491/491 [==============================] - 0s 166us/step - loss: 0.6098 - accuracy: 0.6986 - val_loss: 0.5998 - val_accuracy: 0.6992\n",
            "Epoch 8/50\n",
            "491/491 [==============================] - 0s 165us/step - loss: 0.5978 - accuracy: 0.7006 - val_loss: 0.5907 - val_accuracy: 0.6911\n",
            "Epoch 9/50\n",
            "491/491 [==============================] - 0s 150us/step - loss: 0.5892 - accuracy: 0.7006 - val_loss: 0.5822 - val_accuracy: 0.6911\n",
            "Epoch 10/50\n",
            "491/491 [==============================] - 0s 151us/step - loss: 0.5810 - accuracy: 0.7026 - val_loss: 0.5759 - val_accuracy: 0.7073\n",
            "Epoch 11/50\n",
            "491/491 [==============================] - 0s 166us/step - loss: 0.5740 - accuracy: 0.7108 - val_loss: 0.5698 - val_accuracy: 0.7236\n",
            "Epoch 12/50\n",
            "491/491 [==============================] - 0s 134us/step - loss: 0.5679 - accuracy: 0.7210 - val_loss: 0.5639 - val_accuracy: 0.7236\n",
            "Epoch 13/50\n",
            "491/491 [==============================] - 0s 145us/step - loss: 0.5610 - accuracy: 0.7251 - val_loss: 0.5587 - val_accuracy: 0.7236\n",
            "Epoch 14/50\n",
            "491/491 [==============================] - 0s 146us/step - loss: 0.5550 - accuracy: 0.7332 - val_loss: 0.5530 - val_accuracy: 0.7317\n",
            "Epoch 15/50\n",
            "491/491 [==============================] - 0s 142us/step - loss: 0.5488 - accuracy: 0.7536 - val_loss: 0.5475 - val_accuracy: 0.7642\n",
            "Epoch 16/50\n",
            "491/491 [==============================] - 0s 154us/step - loss: 0.5423 - accuracy: 0.7597 - val_loss: 0.5426 - val_accuracy: 0.7642\n",
            "Epoch 17/50\n",
            "491/491 [==============================] - 0s 163us/step - loss: 0.5356 - accuracy: 0.7821 - val_loss: 0.5371 - val_accuracy: 0.7805\n",
            "Epoch 18/50\n",
            "491/491 [==============================] - 0s 146us/step - loss: 0.5292 - accuracy: 0.7923 - val_loss: 0.5311 - val_accuracy: 0.7805\n",
            "Epoch 19/50\n",
            "491/491 [==============================] - 0s 150us/step - loss: 0.5224 - accuracy: 0.7963 - val_loss: 0.5268 - val_accuracy: 0.7967\n",
            "Epoch 20/50\n",
            "491/491 [==============================] - 0s 146us/step - loss: 0.5173 - accuracy: 0.8004 - val_loss: 0.5220 - val_accuracy: 0.7967\n",
            "Epoch 21/50\n",
            "491/491 [==============================] - 0s 150us/step - loss: 0.5119 - accuracy: 0.8024 - val_loss: 0.5174 - val_accuracy: 0.7967\n",
            "Epoch 22/50\n",
            "491/491 [==============================] - 0s 153us/step - loss: 0.5067 - accuracy: 0.8024 - val_loss: 0.5136 - val_accuracy: 0.7967\n",
            "Epoch 23/50\n",
            "491/491 [==============================] - 0s 151us/step - loss: 0.5041 - accuracy: 0.8024 - val_loss: 0.5095 - val_accuracy: 0.7967\n",
            "Epoch 24/50\n",
            "491/491 [==============================] - 0s 196us/step - loss: 0.4978 - accuracy: 0.8024 - val_loss: 0.5065 - val_accuracy: 0.8049\n",
            "Epoch 25/50\n",
            "491/491 [==============================] - 0s 140us/step - loss: 0.4944 - accuracy: 0.8045 - val_loss: 0.5034 - val_accuracy: 0.8130\n",
            "Epoch 26/50\n",
            "491/491 [==============================] - 0s 143us/step - loss: 0.4906 - accuracy: 0.8045 - val_loss: 0.5013 - val_accuracy: 0.8130\n",
            "Epoch 27/50\n",
            "491/491 [==============================] - 0s 146us/step - loss: 0.4879 - accuracy: 0.8045 - val_loss: 0.4993 - val_accuracy: 0.8130\n",
            "Epoch 28/50\n",
            "491/491 [==============================] - 0s 147us/step - loss: 0.4851 - accuracy: 0.8065 - val_loss: 0.4983 - val_accuracy: 0.8130\n",
            "Epoch 29/50\n",
            "491/491 [==============================] - 0s 141us/step - loss: 0.4820 - accuracy: 0.8065 - val_loss: 0.4957 - val_accuracy: 0.8130\n",
            "Epoch 30/50\n",
            "491/491 [==============================] - 0s 158us/step - loss: 0.4798 - accuracy: 0.8086 - val_loss: 0.4945 - val_accuracy: 0.8130\n",
            "Epoch 31/50\n",
            "491/491 [==============================] - 0s 145us/step - loss: 0.4781 - accuracy: 0.8126 - val_loss: 0.4935 - val_accuracy: 0.8130\n",
            "Epoch 32/50\n",
            "491/491 [==============================] - 0s 147us/step - loss: 0.4763 - accuracy: 0.8106 - val_loss: 0.4915 - val_accuracy: 0.8130\n",
            "Epoch 33/50\n",
            "491/491 [==============================] - 0s 186us/step - loss: 0.4735 - accuracy: 0.8106 - val_loss: 0.4909 - val_accuracy: 0.8130\n",
            "Epoch 34/50\n",
            "491/491 [==============================] - 0s 149us/step - loss: 0.4721 - accuracy: 0.8126 - val_loss: 0.4900 - val_accuracy: 0.8130\n",
            "Epoch 35/50\n",
            "491/491 [==============================] - 0s 138us/step - loss: 0.4707 - accuracy: 0.8126 - val_loss: 0.4889 - val_accuracy: 0.8130\n",
            "Epoch 36/50\n",
            "491/491 [==============================] - 0s 147us/step - loss: 0.4690 - accuracy: 0.8126 - val_loss: 0.4879 - val_accuracy: 0.8130\n",
            "Epoch 37/50\n",
            "491/491 [==============================] - 0s 165us/step - loss: 0.4678 - accuracy: 0.8126 - val_loss: 0.4875 - val_accuracy: 0.8130\n",
            "Epoch 38/50\n",
            "491/491 [==============================] - 0s 132us/step - loss: 0.4665 - accuracy: 0.8126 - val_loss: 0.4871 - val_accuracy: 0.8130\n",
            "Epoch 39/50\n",
            "491/491 [==============================] - 0s 130us/step - loss: 0.4660 - accuracy: 0.8126 - val_loss: 0.4865 - val_accuracy: 0.8130\n",
            "Epoch 40/50\n",
            "491/491 [==============================] - 0s 131us/step - loss: 0.4658 - accuracy: 0.8126 - val_loss: 0.4878 - val_accuracy: 0.8130\n",
            "Epoch 41/50\n",
            "491/491 [==============================] - 0s 141us/step - loss: 0.4648 - accuracy: 0.8126 - val_loss: 0.4857 - val_accuracy: 0.8130\n",
            "Epoch 42/50\n",
            "491/491 [==============================] - 0s 149us/step - loss: 0.4637 - accuracy: 0.8126 - val_loss: 0.4861 - val_accuracy: 0.8130\n",
            "Epoch 43/50\n",
            "491/491 [==============================] - 0s 158us/step - loss: 0.4631 - accuracy: 0.8126 - val_loss: 0.4861 - val_accuracy: 0.8130\n",
            "Epoch 44/50\n",
            "491/491 [==============================] - 0s 141us/step - loss: 0.4630 - accuracy: 0.8126 - val_loss: 0.4849 - val_accuracy: 0.8130\n",
            "Epoch 45/50\n",
            "491/491 [==============================] - 0s 153us/step - loss: 0.4617 - accuracy: 0.8126 - val_loss: 0.4855 - val_accuracy: 0.8130\n",
            "Epoch 46/50\n",
            "491/491 [==============================] - 0s 147us/step - loss: 0.4608 - accuracy: 0.8126 - val_loss: 0.4847 - val_accuracy: 0.8130\n",
            "Epoch 47/50\n",
            "491/491 [==============================] - 0s 145us/step - loss: 0.4601 - accuracy: 0.8126 - val_loss: 0.4846 - val_accuracy: 0.8130\n",
            "Epoch 48/50\n",
            "491/491 [==============================] - 0s 170us/step - loss: 0.4602 - accuracy: 0.8126 - val_loss: 0.4849 - val_accuracy: 0.8130\n",
            "Epoch 49/50\n",
            "491/491 [==============================] - 0s 146us/step - loss: 0.4593 - accuracy: 0.8126 - val_loss: 0.4846 - val_accuracy: 0.8130\n",
            "Epoch 50/50\n",
            "491/491 [==============================] - 0s 165us/step - loss: 0.4595 - accuracy: 0.8126 - val_loss: 0.4842 - val_accuracy: 0.8130\n"
          ],
          "name": "stdout"
        }
      ]
    },
    {
      "cell_type": "markdown",
      "metadata": {
        "id": "hBZ_3aumglN9",
        "colab_type": "text"
      },
      "source": [
        "## 6. Evaluating model performance on validation set"
      ]
    },
    {
      "cell_type": "code",
      "metadata": {
        "id": "qpBoHi7jglN_",
        "colab_type": "code",
        "colab": {}
      },
      "source": [
        "# getting predictions for the validation set\n",
        "prediction = model.predict_classes(X_test)"
      ],
      "execution_count": 0,
      "outputs": []
    },
    {
      "cell_type": "code",
      "metadata": {
        "id": "jMapdscmglOD",
        "colab_type": "code",
        "outputId": "1153b686-6fb9-47ae-c6a9-9341b385d438",
        "colab": {
          "base_uri": "https://localhost:8080/",
          "height": 34
        }
      },
      "source": [
        "# calculating the accuracy on validation set\n",
        "accuracy_score(y_test, prediction)"
      ],
      "execution_count": 36,
      "outputs": [
        {
          "output_type": "execute_result",
          "data": {
            "text/plain": [
              "0.8130081300813008"
            ]
          },
          "metadata": {
            "tags": []
          },
          "execution_count": 36
        }
      ]
    },
    {
      "cell_type": "markdown",
      "metadata": {
        "id": "rLvGzvLcglOH",
        "colab_type": "text"
      },
      "source": [
        "### Visualizing the model performance"
      ]
    },
    {
      "cell_type": "code",
      "metadata": {
        "id": "68APv0UuglOI",
        "colab_type": "code",
        "outputId": "9a238a23-b12b-4c7e-f842-6aef730fe078",
        "colab": {
          "base_uri": "https://localhost:8080/",
          "height": 295
        }
      },
      "source": [
        "# summarize history for loss\n",
        "plt.plot(model_history.history['loss'])\n",
        "plt.plot(model_history.history['val_loss'])\n",
        "plt.title('model loss')\n",
        "plt.ylabel('loss')\n",
        "plt.xlabel('epoch')\n",
        "plt.legend(['train', 'validation'], loc='upper left')\n",
        "plt.show()"
      ],
      "execution_count": 37,
      "outputs": [
        {
          "output_type": "display_data",
          "data": {
            "image/png": "[encoded data removed]",
            "text/plain": [
              "<Figure size 432x288 with 1 Axes>"
            ]
          },
          "metadata": {
            "tags": [],
            "needs_background": "light"
          }
        }
      ]
    },
    {
      "cell_type": "code",
      "metadata": {
        "id": "AiKe0wBbglOM",
        "colab_type": "code",
        "outputId": "5d83b750-c910-49dc-fe29-4aa71561c04b",
        "colab": {
          "base_uri": "https://localhost:8080/",
          "height": 295
        }
      },
      "source": [
        "# summarize history for accuracy\n",
        "plt.plot(model_history.history['accuracy'])\n",
        "plt.plot(model_history.history['val_accuracy'])\n",
        "plt.title('model accuracy')\n",
        "plt.ylabel('accuracy')\n",
        "plt.xlabel('epoch')\n",
        "plt.legend(['train', 'validation'], loc='upper left')\n",
        "plt.show()"
      ],
      "execution_count": 40,
      "outputs": [
        {
          "output_type": "display_data",
          "data": {
            "image/png": "[encoded data removed]",
            "text/plain": [
              "<Figure size 432x288 with 1 Axes>"
            ]
          },
          "metadata": {
            "tags": [],
            "needs_background": "light"
          }
        }
      ]
    },
    {
      "cell_type": "code",
      "metadata": {
        "id": "tvVzU1Gwu7mb",
        "colab_type": "code",
        "colab": {}
      },
      "source": [
        ""
      ],
      "execution_count": 0,
      "outputs": []
    }
  ]
}